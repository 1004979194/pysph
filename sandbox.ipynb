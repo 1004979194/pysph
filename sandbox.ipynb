{
 "cells": [
  {
   "cell_type": "code",
   "execution_count": null,
   "metadata": {},
   "outputs": [],
   "source": [
    "%matplotlib ipympl\n",
    "from pysph.tools.ipy_viewer import Viewer3D\n",
    "from pysph.tools.ipy_viewer import Viewer2D\n",
    "#from pysph.solver.utils import mkdir\n",
    "#import ipywidgets as widgets"
   ]
  },
  {
   "cell_type": "code",
   "execution_count": null,
   "metadata": {},
   "outputs": [],
   "source": [
    "cd '/home/rohan/PySPH Output/'"
   ]
  },
  {
   "cell_type": "code",
   "execution_count": null,
   "metadata": {},
   "outputs": [],
   "source": [
    "%pdb"
   ]
  },
  {
   "cell_type": "code",
   "execution_count": null,
   "metadata": {},
   "outputs": [],
   "source": [
    "v3 = Viewer3D('dam_break_3d_output/')\n",
    "v3.interactive_plot()"
   ]
  },
  {
   "cell_type": "code",
   "execution_count": null,
   "metadata": {
    "scrolled": false
   },
   "outputs": [],
   "source": []
  },
  {
   "cell_type": "code",
   "execution_count": null,
   "metadata": {},
   "outputs": [],
   "source": [
    "viewer_dam = Viewer2D('dam_break_2d_output')\n",
    "viewer_dam.interactive_plot()"
   ]
  },
  {
   "cell_type": "code",
   "execution_count": null,
   "metadata": {},
   "outputs": [],
   "source": []
  },
  {
   "cell_type": "code",
   "execution_count": null,
   "metadata": {},
   "outputs": [],
   "source": [
    "v2 = Viewer2D('rayleigh_taylor_output/')\n",
    "v2.interactive_plot()"
   ]
  },
  {
   "cell_type": "code",
   "execution_count": null,
   "metadata": {},
   "outputs": [],
   "source": []
  },
  {
   "cell_type": "code",
   "execution_count": null,
   "metadata": {},
   "outputs": [],
   "source": [
    "a = widgets.ToggleButtons(\n",
    "    options=['Slow', 'Regular', 'Fast'],\n",
    "    #value = [False, True, False],\n",
    "    #description='Speed:',\n",
    "    disabled=False,\n",
    "    button_style='', # 'success', 'info', 'warning', 'danger' or ''\n",
    "    tooltips=['Description of slow', 'Description of regular', 'Description of fast'],\n",
    "#     icons=['check'] * 3\n",
    ")\n",
    "\n",
    "def func(change):\n",
    "    print(change)\n",
    "\n",
    "a.observe(func)\n",
    "\n",
    "display(a)"
   ]
  },
  {
   "cell_type": "code",
   "execution_count": null,
   "metadata": {},
   "outputs": [],
   "source": [
    "a = widgets.ToggleButton(\n",
    "    value=False,\n",
    "    description='start',\n",
    "    disabled=False,\n",
    "    icon=''\n",
    ")\n",
    "\n",
    "b = widgets.ToggleButton(\n",
    "    value=False,\n",
    "    description='stop',\n",
    "    disabled=True,\n",
    "    icon=''\n",
    ")\n",
    "\n",
    "def func1(change):\n",
    "    if change['new'] is True:\n",
    "        a.disabled = True\n",
    "        b.disabled = False\n",
    "        for i in range(1000000):\n",
    "            if b.value is False:\n",
    "                print(i)\n",
    "            elif b.value is True:\n",
    "                break\n",
    "                \n",
    "a.observe(func1, 'value')\n",
    "\n",
    "display(widgets.VBox([a, b]))"
   ]
  }
 ],
 "metadata": {
  "kernelspec": {
   "display_name": "Python 3",
   "language": "python",
   "name": "python3"
  },
  "language_info": {
   "codemirror_mode": {
    "name": "ipython",
    "version": 3
   },
   "file_extension": ".py",
   "mimetype": "text/x-python",
   "name": "python",
   "nbconvert_exporter": "python",
   "pygments_lexer": "ipython3",
   "version": "3.6.6"
  }
 },
 "nbformat": 4,
 "nbformat_minor": 2
}
